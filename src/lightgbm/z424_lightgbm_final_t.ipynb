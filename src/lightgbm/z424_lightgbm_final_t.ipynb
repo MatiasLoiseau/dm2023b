{
 "cells": [
  {
   "cell_type": "code",
   "execution_count": 1,
   "id": "initial_id",
   "metadata": {
    "collapsed": true,
    "ExecuteTime": {
     "end_time": "2023-09-22T01:36:50.449393431Z",
     "start_time": "2023-09-22T01:36:49.763873879Z"
    }
   },
   "outputs": [],
   "source": [
    "import pandas as pd\n",
    "import lightgbm as lgb\n",
    "import os"
   ]
  },
  {
   "cell_type": "code",
   "execution_count": 2,
   "outputs": [],
   "source": [
    "# Definir los parámetros de la corrida en un diccionario\n",
    "PARAM = {\n",
    "    \"experimento\": \"KA4240_python\",\n",
    "    \"input\": {\n",
    "        \"dataset\": \"/home/matias/datasets/dataset_pequeno.csv\",\n",
    "        \"training\": [202107],  # Meses de entrenamiento\n",
    "        \"future\": [202109]  # Meses de aplicación del modelo\n",
    "    },\n",
    "    \"finalmodel\": {\n",
    "        \"semilla\": 374063,\n",
    "        \"num_iterations\": 559,\n",
    "        \"learning_rate\": 0.0100746999,\n",
    "        \"feature_fraction\": 0.5144127527,\n",
    "        \"min_data_in_leaf\": 505,\n",
    "        \"num_leaves\": 44,\n",
    "        \"max_bin\": 31\n",
    "    }\n",
    "}"
   ],
   "metadata": {
    "collapsed": false,
    "ExecuteTime": {
     "end_time": "2023-09-22T01:36:51.447340501Z",
     "start_time": "2023-09-22T01:36:51.442498860Z"
    }
   },
   "id": "23b74066844a63dc"
  },
  {
   "cell_type": "code",
   "execution_count": 3,
   "outputs": [],
   "source": [
    "# Establecer el directorio de trabajo\n",
    "os.chdir(\"/home/matias/Dropbox/ITBA/Mineria_de_Datos/dm2023b/\")"
   ],
   "metadata": {
    "collapsed": false,
    "ExecuteTime": {
     "end_time": "2023-09-22T01:36:52.702129679Z",
     "start_time": "2023-09-22T01:36:52.694884893Z"
    }
   },
   "id": "af3eebcaae054672"
  },
  {
   "cell_type": "code",
   "execution_count": 4,
   "outputs": [
    {
     "name": "stderr",
     "output_type": "stream",
     "text": [
      "/tmp/ipykernel_831612/1881337292.py:2: DtypeWarning: Columns (154) have mixed types. Specify dtype option on import or set low_memory=False.\n",
      "  dataset = pd.read_csv(PARAM[\"input\"][\"dataset\"])\n"
     ]
    }
   ],
   "source": [
    "# Cargar el dataset donde vamos a entrenar el modelo\n",
    "dataset = pd.read_csv(PARAM[\"input\"][\"dataset\"])\n",
    "\n",
    "# Crear la columna clase01 (binaria)\n",
    "dataset[\"clase01\"] = dataset[\"clase_ternaria\"].apply(lambda x: 1 if x in [\"BAJA+2\", \"BAJA+1\"] else 0)\n"
   ],
   "metadata": {
    "collapsed": false,
    "ExecuteTime": {
     "end_time": "2023-09-22T01:36:57.562868006Z",
     "start_time": "2023-09-22T01:36:53.510112146Z"
    }
   },
   "id": "75f35c5356dbeba0"
  },
  {
   "cell_type": "code",
   "execution_count": 5,
   "outputs": [],
   "source": [
    "# Definir las características a utilizar\n",
    "campos_buenos = [col for col in dataset.columns if col not in [\"clase_ternaria\", \"clase01\"]]\n"
   ],
   "metadata": {
    "collapsed": false,
    "ExecuteTime": {
     "end_time": "2023-09-22T01:36:58.465824011Z",
     "start_time": "2023-09-22T01:36:58.458140746Z"
    }
   },
   "id": "15d80897a540f5e0"
  },
  {
   "cell_type": "code",
   "execution_count": 6,
   "outputs": [],
   "source": [
    "# Establecer la columna \"train\" para el conjunto de entrenamiento\n",
    "dataset[\"train\"] = 0\n",
    "dataset.loc[dataset[\"foto_mes\"].isin(PARAM[\"input\"][\"training\"]), \"train\"] = 1\n"
   ],
   "metadata": {
    "collapsed": false,
    "ExecuteTime": {
     "end_time": "2023-09-22T01:36:59.045627888Z",
     "start_time": "2023-09-22T01:36:59.034740307Z"
    }
   },
   "id": "569061194eee5dfb"
  },
  {
   "cell_type": "code",
   "execution_count": 7,
   "outputs": [],
   "source": [
    "# Crear carpetas para los resultados del experimento\n",
    "os.makedirs(\"./exp/\", exist_ok=True)\n",
    "os.makedirs(f\"./exp/{PARAM['experimento']}/\", exist_ok=True)\n"
   ],
   "metadata": {
    "collapsed": false,
    "ExecuteTime": {
     "end_time": "2023-09-22T01:36:59.643012545Z",
     "start_time": "2023-09-22T01:36:59.629799481Z"
    }
   },
   "id": "b2ad4c87d99a980c"
  },
  {
   "cell_type": "code",
   "execution_count": 8,
   "outputs": [],
   "source": [
    "# Establecer el directorio de trabajo del experimento\n",
    "os.chdir(f\"./exp/{PARAM['experimento']}/\")"
   ],
   "metadata": {
    "collapsed": false,
    "ExecuteTime": {
     "end_time": "2023-09-22T01:37:00.567658697Z",
     "start_time": "2023-09-22T01:37:00.558031390Z"
    }
   },
   "id": "7b6b106710d83f8e"
  },
  {
   "cell_type": "code",
   "execution_count": 9,
   "outputs": [],
   "source": [
    "# Crear el conjunto de entrenamiento en el formato requerido por LightGBM\n",
    "dtrain = lgb.Dataset(\n",
    "    data=dataset.loc[dataset[\"train\"] == 1, campos_buenos],\n",
    "    label=dataset.loc[dataset[\"train\"] == 1, \"clase01\"]\n",
    ")"
   ],
   "metadata": {
    "collapsed": false,
    "ExecuteTime": {
     "end_time": "2023-09-22T01:37:01.369629171Z",
     "start_time": "2023-09-22T01:37:01.155967398Z"
    }
   },
   "id": "b92c807d80b34a67"
  },
  {
   "cell_type": "code",
   "execution_count": 10,
   "outputs": [
    {
     "name": "stderr",
     "output_type": "stream",
     "text": [
      "/home/matias/anaconda3/lib/python3.10/site-packages/lightgbm/engine.py:177: UserWarning: Found `num_iterations` in params. Will use it instead of argument\n",
      "  _log_warning(f\"Found `{alias}` in params. Will use it instead of argument\")\n"
     ]
    },
    {
     "name": "stdout",
     "output_type": "stream",
     "text": [
      "[LightGBM] [Info] Number of positive: 2346, number of negative: 162336\n",
      "[LightGBM] [Warning] Auto-choosing row-wise multi-threading, the overhead of testing was 0.148273 seconds.\n",
      "You can set `force_row_wise=true` to remove the overhead.\n",
      "And if memory is not enough, you can set `force_col_wise=true`.\n",
      "[LightGBM] [Info] Total Bins 3436\n",
      "[LightGBM] [Info] Number of data points in the train set: 164682, number of used features: 142\n",
      "[LightGBM] [Info] [binary:BoostFromScore]: pavg=0.014246 -> initscore=-4.236957\n",
      "[LightGBM] [Info] Start training from score -4.236957\n"
     ]
    }
   ],
   "source": [
    "# Generar el modelo\n",
    "parametros_modelo = {\n",
    "    \"objective\": \"binary\",\n",
    "    \"max_bin\": PARAM[\"finalmodel\"][\"max_bin\"],\n",
    "    \"learning_rate\": PARAM[\"finalmodel\"][\"learning_rate\"],\n",
    "    \"num_iterations\": PARAM[\"finalmodel\"][\"num_iterations\"],\n",
    "    \"num_leaves\": PARAM[\"finalmodel\"][\"num_leaves\"],\n",
    "    \"min_data_in_leaf\": PARAM[\"finalmodel\"][\"min_data_in_leaf\"],\n",
    "    \"feature_fraction\": PARAM[\"finalmodel\"][\"feature_fraction\"],\n",
    "    \"seed\": PARAM[\"finalmodel\"][\"semilla\"]\n",
    "}\n",
    "\n",
    "modelo = lgb.train(parametros_modelo, dtrain)"
   ],
   "metadata": {
    "collapsed": false,
    "ExecuteTime": {
     "end_time": "2023-09-22T01:37:31.410619701Z",
     "start_time": "2023-09-22T01:37:02.371965383Z"
    }
   },
   "id": "6250a64dcaa4c3ee"
  },
  {
   "cell_type": "code",
   "execution_count": 11,
   "outputs": [],
   "source": [
    "# Guardar la importancia de las variables\n",
    "tb_importancia = pd.DataFrame({\n",
    "    \"Feature\": campos_buenos,\n",
    "    \"Importance\": modelo.feature_importance(importance_type=\"gain\")\n",
    "})\n",
    "archivo_importancia = \"impo.txt\"\n",
    "tb_importancia.to_csv(archivo_importancia, sep=\"\\t\", index=False)"
   ],
   "metadata": {
    "collapsed": false,
    "ExecuteTime": {
     "end_time": "2023-09-22T01:37:33.848883333Z",
     "start_time": "2023-09-22T01:37:33.826274591Z"
    }
   },
   "id": "f904ae2d11e34114"
  },
  {
   "cell_type": "code",
   "execution_count": 12,
   "outputs": [],
   "source": [
    "# Aplicar el modelo a los datos sin clase\n",
    "dapply = dataset.loc[dataset[\"foto_mes\"].isin(PARAM[\"input\"][\"future\"])]"
   ],
   "metadata": {
    "collapsed": false,
    "ExecuteTime": {
     "end_time": "2023-09-22T01:37:53.874513192Z",
     "start_time": "2023-09-22T01:37:53.795867794Z"
    }
   },
   "id": "d97be3dcf5f2096f"
  },
  {
   "cell_type": "code",
   "execution_count": 13,
   "outputs": [],
   "source": [
    "# Aplicar el modelo a los nuevos datos\n",
    "prediccion = modelo.predict(dapply[campos_buenos])"
   ],
   "metadata": {
    "collapsed": false,
    "ExecuteTime": {
     "end_time": "2023-09-22T01:38:02.853657368Z",
     "start_time": "2023-09-22T01:38:00.773657385Z"
    }
   },
   "id": "dc3e6aca24b32aa0"
  },
  {
   "cell_type": "code",
   "execution_count": 14,
   "outputs": [
    {
     "name": "stderr",
     "output_type": "stream",
     "text": [
      "/tmp/ipykernel_831612/3400325272.py:3: SettingWithCopyWarning: \n",
      "A value is trying to be set on a copy of a slice from a DataFrame.\n",
      "Try using .loc[row_indexer,col_indexer] = value instead\n",
      "\n",
      "See the caveats in the documentation: https://pandas.pydata.org/pandas-docs/stable/user_guide/indexing.html#returning-a-view-versus-a-copy\n",
      "  tb_entrega[\"prob\"] = prediccion\n"
     ]
    }
   ],
   "source": [
    "# Generar la tabla de entrega\n",
    "tb_entrega = dapply[[\"numero_de_cliente\", \"foto_mes\"]]\n",
    "tb_entrega[\"prob\"] = prediccion"
   ],
   "metadata": {
    "collapsed": false,
    "ExecuteTime": {
     "end_time": "2023-09-22T01:38:10.240825647Z",
     "start_time": "2023-09-22T01:38:10.226681018Z"
    }
   },
   "id": "accd778b9ece0a7"
  },
  {
   "cell_type": "code",
   "execution_count": 15,
   "outputs": [],
   "source": [
    "# Guardar las probabilidades del modelo\n",
    "tb_entrega.to_csv(\"prediccion.txt\", sep=\"\\t\", index=False)"
   ],
   "metadata": {
    "collapsed": false,
    "ExecuteTime": {
     "end_time": "2023-09-22T01:38:15.752305673Z",
     "start_time": "2023-09-22T01:38:15.454222522Z"
    }
   },
   "id": "eaa6df6e91deaeac"
  },
  {
   "cell_type": "code",
   "execution_count": 16,
   "outputs": [
    {
     "name": "stderr",
     "output_type": "stream",
     "text": [
      "/tmp/ipykernel_831612/2011446390.py:4: SettingWithCopyWarning: \n",
      "A value is trying to be set on a copy of a slice from a DataFrame.\n",
      "Try using .loc[row_indexer,col_indexer] = value instead\n",
      "\n",
      "See the caveats in the documentation: https://pandas.pydata.org/pandas-docs/stable/user_guide/indexing.html#returning-a-view-versus-a-copy\n",
      "  tb_entrega[\"Predicted\"] = 0\n",
      "/tmp/ipykernel_831612/2011446390.py:4: SettingWithCopyWarning: \n",
      "A value is trying to be set on a copy of a slice from a DataFrame.\n",
      "Try using .loc[row_indexer,col_indexer] = value instead\n",
      "\n",
      "See the caveats in the documentation: https://pandas.pydata.org/pandas-docs/stable/user_guide/indexing.html#returning-a-view-versus-a-copy\n",
      "  tb_entrega[\"Predicted\"] = 0\n",
      "/tmp/ipykernel_831612/2011446390.py:4: SettingWithCopyWarning: \n",
      "A value is trying to be set on a copy of a slice from a DataFrame.\n",
      "Try using .loc[row_indexer,col_indexer] = value instead\n",
      "\n",
      "See the caveats in the documentation: https://pandas.pydata.org/pandas-docs/stable/user_guide/indexing.html#returning-a-view-versus-a-copy\n",
      "  tb_entrega[\"Predicted\"] = 0\n",
      "/tmp/ipykernel_831612/2011446390.py:4: SettingWithCopyWarning: \n",
      "A value is trying to be set on a copy of a slice from a DataFrame.\n",
      "Try using .loc[row_indexer,col_indexer] = value instead\n",
      "\n",
      "See the caveats in the documentation: https://pandas.pydata.org/pandas-docs/stable/user_guide/indexing.html#returning-a-view-versus-a-copy\n",
      "  tb_entrega[\"Predicted\"] = 0\n",
      "/tmp/ipykernel_831612/2011446390.py:4: SettingWithCopyWarning: \n",
      "A value is trying to be set on a copy of a slice from a DataFrame.\n",
      "Try using .loc[row_indexer,col_indexer] = value instead\n",
      "\n",
      "See the caveats in the documentation: https://pandas.pydata.org/pandas-docs/stable/user_guide/indexing.html#returning-a-view-versus-a-copy\n",
      "  tb_entrega[\"Predicted\"] = 0\n",
      "/tmp/ipykernel_831612/2011446390.py:4: SettingWithCopyWarning: \n",
      "A value is trying to be set on a copy of a slice from a DataFrame.\n",
      "Try using .loc[row_indexer,col_indexer] = value instead\n",
      "\n",
      "See the caveats in the documentation: https://pandas.pydata.org/pandas-docs/stable/user_guide/indexing.html#returning-a-view-versus-a-copy\n",
      "  tb_entrega[\"Predicted\"] = 0\n",
      "/tmp/ipykernel_831612/2011446390.py:4: SettingWithCopyWarning: \n",
      "A value is trying to be set on a copy of a slice from a DataFrame.\n",
      "Try using .loc[row_indexer,col_indexer] = value instead\n",
      "\n",
      "See the caveats in the documentation: https://pandas.pydata.org/pandas-docs/stable/user_guide/indexing.html#returning-a-view-versus-a-copy\n",
      "  tb_entrega[\"Predicted\"] = 0\n",
      "/tmp/ipykernel_831612/2011446390.py:4: SettingWithCopyWarning: \n",
      "A value is trying to be set on a copy of a slice from a DataFrame.\n",
      "Try using .loc[row_indexer,col_indexer] = value instead\n",
      "\n",
      "See the caveats in the documentation: https://pandas.pydata.org/pandas-docs/stable/user_guide/indexing.html#returning-a-view-versus-a-copy\n",
      "  tb_entrega[\"Predicted\"] = 0\n",
      "/tmp/ipykernel_831612/2011446390.py:4: SettingWithCopyWarning: \n",
      "A value is trying to be set on a copy of a slice from a DataFrame.\n",
      "Try using .loc[row_indexer,col_indexer] = value instead\n",
      "\n",
      "See the caveats in the documentation: https://pandas.pydata.org/pandas-docs/stable/user_guide/indexing.html#returning-a-view-versus-a-copy\n",
      "  tb_entrega[\"Predicted\"] = 0\n"
     ]
    },
    {
     "name": "stdout",
     "output_type": "stream",
     "text": [
      "\n",
      "\n",
      "La generación de los archivos para Kaggle ha terminado\n"
     ]
    }
   ],
   "source": [
    "# Generar archivos con los mejores \"envios\"\n",
    "cortes = list(range(8000, 12001, 500))\n",
    "for envios in cortes:\n",
    "    tb_entrega[\"Predicted\"] = 0\n",
    "    tb_entrega.loc[0:envios, \"Predicted\"] = 1\n",
    "    archivo_salida = f\"{PARAM['experimento']}_{envios}.csv\"\n",
    "    tb_entrega[[\"numero_de_cliente\", \"Predicted\"]].to_csv(archivo_salida, sep=\",\", index=False)\n",
    "\n",
    "print(\"\\n\\nLa generación de los archivos para Kaggle ha terminado\\n\")"
   ],
   "metadata": {
    "collapsed": false,
    "ExecuteTime": {
     "end_time": "2023-09-22T01:38:25.800270012Z",
     "start_time": "2023-09-22T01:38:24.134631205Z"
    }
   },
   "id": "d922a3e754fd0aec"
  },
  {
   "cell_type": "code",
   "execution_count": null,
   "outputs": [],
   "source": [],
   "metadata": {
    "collapsed": false
   },
   "id": "8977c53a7e56f3d7"
  }
 ],
 "metadata": {
  "kernelspec": {
   "display_name": "Python 3",
   "language": "python",
   "name": "python3"
  },
  "language_info": {
   "codemirror_mode": {
    "name": "ipython",
    "version": 2
   },
   "file_extension": ".py",
   "mimetype": "text/x-python",
   "name": "python",
   "nbconvert_exporter": "python",
   "pygments_lexer": "ipython2",
   "version": "2.7.6"
  }
 },
 "nbformat": 4,
 "nbformat_minor": 5
}
