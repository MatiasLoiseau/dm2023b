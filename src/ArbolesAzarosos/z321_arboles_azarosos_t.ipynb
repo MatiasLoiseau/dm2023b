{
 "cells": [
  {
   "cell_type": "code",
   "execution_count": 1,
   "id": "initial_id",
   "metadata": {
    "collapsed": true,
    "ExecuteTime": {
     "end_time": "2023-09-21T23:00:38.685677830Z",
     "start_time": "2023-09-21T23:00:37.535904797Z"
    }
   },
   "outputs": [],
   "source": [
    "import pandas as pd\n",
    "import os\n",
    "import random\n",
    "from sklearn.tree import DecisionTreeClassifier\n",
    "from sklearn.metrics import roc_auc_score\n",
    "import numpy as np"
   ]
  },
  {
   "cell_type": "code",
   "execution_count": 2,
   "outputs": [],
   "source": [
    "# Parámetros del experimento\n",
    "experimento = 3210\n",
    "\n",
    "# Establecer la semilla aleatoria\n",
    "semilla = 770767\n",
    "random.seed(semilla)"
   ],
   "metadata": {
    "collapsed": false,
    "ExecuteTime": {
     "end_time": "2023-09-21T23:00:58.333278251Z",
     "start_time": "2023-09-21T23:00:58.312734308Z"
    }
   },
   "id": "258de75eadedbc5"
  },
  {
   "cell_type": "code",
   "execution_count": 3,
   "outputs": [],
   "source": [
    "# Parámetros de DecisionTreeClassifier\n",
    "rpart_param = {\n",
    "    \"criterion\": \"gini\",\n",
    "    \"min_samples_split\": 300,\n",
    "    \"min_samples_leaf\": 20,\n",
    "    \"max_depth\": 10\n",
    "}"
   ],
   "metadata": {
    "collapsed": false,
    "ExecuteTime": {
     "end_time": "2023-09-21T23:01:05.555953651Z",
     "start_time": "2023-09-21T23:01:05.532364823Z"
    }
   },
   "id": "471b6ed346a3c479"
  },
  {
   "cell_type": "code",
   "execution_count": 4,
   "outputs": [],
   "source": [
    "# Parámetros del árbol\n",
    "feature_fraction = 0.5\n",
    "num_trees_max = 500"
   ],
   "metadata": {
    "collapsed": false,
    "ExecuteTime": {
     "end_time": "2023-09-21T23:01:13.717966784Z",
     "start_time": "2023-09-21T23:01:13.673634055Z"
    }
   },
   "id": "8a7101896c42c8a7"
  },
  {
   "cell_type": "code",
   "execution_count": 5,
   "outputs": [],
   "source": [
    "# Establecer el directorio de trabajo\n",
    "os.chdir(\"/home/matias/Dropbox/ITBA/Mineria_de_Datos/dm2023b/\")"
   ],
   "metadata": {
    "collapsed": false,
    "ExecuteTime": {
     "end_time": "2023-09-21T23:01:22.565499265Z",
     "start_time": "2023-09-21T23:01:22.539718419Z"
    }
   },
   "id": "d078e30cdaf51d3e"
  },
  {
   "cell_type": "code",
   "execution_count": 6,
   "outputs": [
    {
     "name": "stderr",
     "output_type": "stream",
     "text": [
      "/tmp/ipykernel_19773/3333360574.py:2: DtypeWarning: Columns (154) have mixed types. Specify dtype option on import or set low_memory=False.\n",
      "  dataset = pd.read_csv(\"/home/matias/datasets/dataset_pequeno.csv\")\n"
     ]
    }
   ],
   "source": [
    "# Cargar los datos\n",
    "dataset = pd.read_csv(\"/home/matias/datasets/dataset_pequeno.csv\")"
   ],
   "metadata": {
    "collapsed": false,
    "ExecuteTime": {
     "end_time": "2023-09-21T23:01:35.108066039Z",
     "start_time": "2023-09-21T23:01:29.860253343Z"
    }
   },
   "id": "3f70a76212f52139"
  },
  {
   "cell_type": "code",
   "execution_count": 7,
   "outputs": [],
   "source": [
    "# Crear la carpeta del experimento\n",
    "carpeta_experimento = f\"./exp/KA{experimento}/\"\n",
    "os.makedirs(carpeta_experimento, exist_ok=True)\n",
    "os.chdir(carpeta_experimento)"
   ],
   "metadata": {
    "collapsed": false,
    "ExecuteTime": {
     "end_time": "2023-09-21T23:01:59.997751471Z",
     "start_time": "2023-09-21T23:01:59.953899847Z"
    }
   },
   "id": "7c6d5a0255a88026"
  },
  {
   "cell_type": "code",
   "execution_count": 8,
   "outputs": [],
   "source": [
    "# Definir los tamaños de ensemble a guardar en disco\n",
    "grabar = [1, 5, 10, 50, 100, 200, 500]"
   ],
   "metadata": {
    "collapsed": false,
    "ExecuteTime": {
     "end_time": "2023-09-21T23:02:06.251514535Z",
     "start_time": "2023-09-21T23:02:06.243124075Z"
    }
   },
   "id": "8018e0f95a10aa60"
  },
  {
   "cell_type": "code",
   "execution_count": 9,
   "outputs": [],
   "source": [
    "# Definir conjuntos de entrenamiento y prueba\n",
    "dtrain = dataset[dataset[\"foto_mes\"] == 202107].copy()\n",
    "dapply = dataset[dataset[\"foto_mes\"] == 202109].copy()"
   ],
   "metadata": {
    "collapsed": false,
    "ExecuteTime": {
     "end_time": "2023-09-21T23:02:10.758600939Z",
     "start_time": "2023-09-21T23:02:10.434304232Z"
    }
   },
   "id": "f26ea07b9d6863c3"
  },
  {
   "cell_type": "code",
   "execution_count": 10,
   "outputs": [],
   "source": [
    "# Inicializar la columna de probabilidad acumulada\n",
    "dapply[\"prob_acumulada\"] = 0"
   ],
   "metadata": {
    "collapsed": false,
    "ExecuteTime": {
     "end_time": "2023-09-21T23:02:15.058936815Z",
     "start_time": "2023-09-21T23:02:15.046066901Z"
    }
   },
   "id": "a7e698721c494586"
  },
  {
   "cell_type": "code",
   "execution_count": 11,
   "outputs": [],
   "source": [
    "# Definir los campos utilizables para la predicción\n",
    "campos_buenos = [col for col in dtrain.columns if col != \"clase_ternaria\"]\n"
   ],
   "metadata": {
    "collapsed": false,
    "ExecuteTime": {
     "end_time": "2023-09-21T23:02:20.616919370Z",
     "start_time": "2023-09-21T23:02:20.607613520Z"
    }
   },
   "id": "3f9c1f14c29a5855"
  },
  {
   "cell_type": "code",
   "execution_count": null,
   "outputs": [],
   "source": [
    "# Generar las salidas\n",
    "for arbolito in range(1, num_trees_max + 1):\n",
    "    qty_campos_a_utilizar = int(len(campos_buenos) * feature_fraction)\n",
    "    campos_random = random.sample(campos_buenos, qty_campos_a_utilizar)\n",
    "    campos_random_str = \" + \".join(campos_random)\n",
    "\n",
    "    # Crear el árbol de decisión\n",
    "    modelo = DecisionTreeClassifier(**rpart_param)\n",
    "    modelo.fit(dtrain[campos_random], dtrain[\"clase_ternaria\"])\n",
    "\n",
    "    # Aplicar el modelo a los datos sin etiqueta\n",
    "    prediccion = modelo.predict_proba(dapply[campos_random])[:, 1]\n",
    "\n",
    "    dapply[\"prob_acumulada\"] += prediccion\n",
    "\n",
    "    if arbolito in grabar:\n",
    "        # Generar la entrega para Kaggle\n",
    "        umbral_corte = (1 / 40) * arbolito\n",
    "        entrega = pd.DataFrame({\n",
    "            \"numero_de_cliente\": dapply[\"numero_de_cliente\"],\n",
    "            \"Predicted\": (dapply[\"prob_acumulada\"] > umbral_corte).astype(int)\n",
    "        })\n",
    "\n",
    "        nom_arch = f\"KA{experimento}_{arbolito:03d}.csv\"\n",
    "        entrega.to_csv(nom_arch, index=False)\n",
    "        print(arbolito, end=\" \")"
   ],
   "metadata": {
    "collapsed": false
   },
   "id": "2ba36eb43852817f"
  }
 ],
 "metadata": {
  "kernelspec": {
   "display_name": "Python 3",
   "language": "python",
   "name": "python3"
  },
  "language_info": {
   "codemirror_mode": {
    "name": "ipython",
    "version": 2
   },
   "file_extension": ".py",
   "mimetype": "text/x-python",
   "name": "python",
   "nbconvert_exporter": "python",
   "pygments_lexer": "ipython2",
   "version": "2.7.6"
  }
 },
 "nbformat": 4,
 "nbformat_minor": 5
}
